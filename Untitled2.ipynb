{
 "cells": [
  {
   "cell_type": "code",
   "execution_count": 34,
   "id": "85d1e6d8",
   "metadata": {},
   "outputs": [
    {
     "name": "stdout",
     "output_type": "stream",
     "text": [
      "Contestant: 'Robin'   Answer: 'Blue! I mean Green!'\n"
     ]
    }
   ],
   "source": [
    "round_table = [\n",
    "    (\"Lancelot\", \"Blue\"),\n",
    "    (\"Galahad\", \"I don't know!\"),\n",
    "    (\"Robin\", \"Blue! I mean Green!\"),\n",
    "    (\"Arthur\", \"Is that an African Swallow or European Swallow?\")\n",
    "]\n",
    "result = []\n",
    "for knight, answer in round_table:\n",
    "    result.append(\"Contestant: '\" + knight + \"'   Answer: '\" + answer + \"'\")\n",
    "\n",
    "print(result[2])"
   ]
  },
  {
   "cell_type": "code",
   "execution_count": null,
   "id": "f5fcdadb",
   "metadata": {},
   "outputs": [],
   "source": []
  }
 ],
 "metadata": {
  "kernelspec": {
   "display_name": "Python 3",
   "language": "python",
   "name": "python3"
  },
  "language_info": {
   "codemirror_mode": {
    "name": "ipython",
    "version": 3
   },
   "file_extension": ".py",
   "mimetype": "text/x-python",
   "name": "python",
   "nbconvert_exporter": "python",
   "pygments_lexer": "ipython3",
   "version": "3.9.5"
  }
 },
 "nbformat": 4,
 "nbformat_minor": 5
}
