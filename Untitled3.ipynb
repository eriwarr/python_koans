{
 "cells": [
  {
   "cell_type": "code",
   "execution_count": 445,
   "id": "2ce6b312",
   "metadata": {},
   "outputs": [],
   "source": [
    "class Dog6:\n",
    "    def __init__(self, initial_name):\n",
    "        self._name = initial_name\n",
    "\n",
    "    def get_self(self):\n",
    "        return self\n",
    "\n",
    "    def __str__(self):\n",
    "        #\n",
    "        # Implement this!\n",
    "        #\n",
    "        return __\n",
    "\n",
    "    def __repr__(self):\n",
    "        return \"<Dog named '\" + self._name + \"'>\""
   ]
  },
  {
   "cell_type": "code",
   "execution_count": null,
   "id": "b5e3f52d",
   "metadata": {},
   "outputs": [],
   "source": []
  },
  {
   "cell_type": "code",
   "execution_count": null,
   "id": "bea70078",
   "metadata": {},
   "outputs": [],
   "source": []
  }
 ],
 "metadata": {
  "kernelspec": {
   "display_name": "Python 3",
   "language": "python",
   "name": "python3"
  },
  "language_info": {
   "codemirror_mode": {
    "name": "ipython",
    "version": 3
   },
   "file_extension": ".py",
   "mimetype": "text/x-python",
   "name": "python",
   "nbconvert_exporter": "python",
   "pygments_lexer": "ipython3",
   "version": "3.9.5"
  }
 },
 "nbformat": 4,
 "nbformat_minor": 5
}
