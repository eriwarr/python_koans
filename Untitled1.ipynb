{
 "cells": [
  {
   "cell_type": "code",
   "execution_count": 56,
   "id": "816669f6",
   "metadata": {},
   "outputs": [],
   "source": [
    "def test_if_then_elif_else_statements():\n",
    "    if False:\n",
    "        result = 'first value'\n",
    "    elif True:\n",
    "        result = 'true value'\n",
    "    else:\n",
    "        result = 'default value'\n",
    "    \n",
    "    print(result)"
   ]
  },
  {
   "cell_type": "code",
   "execution_count": null,
   "id": "94d7ee23",
   "metadata": {},
   "outputs": [],
   "source": []
  },
  {
   "cell_type": "code",
   "execution_count": null,
   "id": "635d4ce6",
   "metadata": {},
   "outputs": [],
   "source": []
  }
 ],
 "metadata": {
  "kernelspec": {
   "display_name": "Python 3",
   "language": "python",
   "name": "python3"
  },
  "language_info": {
   "codemirror_mode": {
    "name": "ipython",
    "version": 3
   },
   "file_extension": ".py",
   "mimetype": "text/x-python",
   "name": "python",
   "nbconvert_exporter": "python",
   "pygments_lexer": "ipython3",
   "version": "3.9.5"
  }
 },
 "nbformat": 4,
 "nbformat_minor": 5
}
