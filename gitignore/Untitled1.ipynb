{
 "cells": [
  {
   "cell_type": "code",
   "execution_count": 28,
   "id": "7d4e5923",
   "metadata": {},
   "outputs": [
    {
     "data": {
      "text/plain": [
       "('S', 'u', 'r', 'p', 'r', 'i', 's', 'e', '!')"
      ]
     },
     "execution_count": 28,
     "metadata": {},
     "output_type": "execute_result"
    }
   ],
   "source": [
    "tuple(\"Surprise!\")"
   ]
  },
  {
   "cell_type": "code",
   "execution_count": null,
   "id": "30c1ba11",
   "metadata": {},
   "outputs": [],
   "source": []
  },
  {
   "cell_type": "code",
   "execution_count": null,
   "id": "52518459",
   "metadata": {},
   "outputs": [],
   "source": []
  }
 ],
 "metadata": {
  "kernelspec": {
   "display_name": "Python 3",
   "language": "python",
   "name": "python3"
  },
  "language_info": {
   "codemirror_mode": {
    "name": "ipython",
    "version": 3
   },
   "file_extension": ".py",
   "mimetype": "text/x-python",
   "name": "python",
   "nbconvert_exporter": "python",
   "pygments_lexer": "ipython3",
   "version": "3.9.5"
  }
 },
 "nbformat": 4,
 "nbformat_minor": 5
}
