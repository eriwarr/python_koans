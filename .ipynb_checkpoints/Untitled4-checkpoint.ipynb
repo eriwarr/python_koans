{
 "cells": [
  {
   "cell_type": "code",
   "execution_count": 56,
   "id": "3bdf4fdb",
   "metadata": {},
   "outputs": [
    {
     "data": {
      "text/plain": [
       "'WOOF'"
      ]
     },
     "execution_count": 56,
     "metadata": {},
     "output_type": "execute_result"
    }
   ],
   "source": [
    "    def test_after_patching_dogs_can_both_wag_and_bark(self):\n",
    "        def wag(self): return \"HAPPY\"\n",
    "        self.Dog.wag = wag"
   ]
  },
  {
   "cell_type": "code",
   "execution_count": null,
   "id": "4e235d73",
   "metadata": {},
   "outputs": [],
   "source": []
  }
 ],
 "metadata": {
  "kernelspec": {
   "display_name": "Python 3",
   "language": "python",
   "name": "python3"
  },
  "language_info": {
   "codemirror_mode": {
    "name": "ipython",
    "version": 3
   },
   "file_extension": ".py",
   "mimetype": "text/x-python",
   "name": "python",
   "nbconvert_exporter": "python",
   "pygments_lexer": "ipython3",
   "version": "3.9.5"
  }
 },
 "nbformat": 4,
 "nbformat_minor": 5
}
